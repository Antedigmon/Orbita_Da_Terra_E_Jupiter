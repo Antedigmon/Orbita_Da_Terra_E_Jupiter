{
 "cells": [
  {
   "cell_type": "code",
   "execution_count": null,
   "metadata": {},
   "outputs": [
    {
     "name": "stderr",
     "output_type": "stream",
     "text": [
      "C:\\Users\\ricar\\Anaconda3\\lib\\importlib\\_bootstrap.py:219: RuntimeWarning: numpy.ufunc size changed, may indicate binary incompatibility. Expected 112 from C header, got 124 from PyObject\n",
      "  return f(*args, **kwds)\n"
     ]
    },
    {
     "data": {
      "application/javascript": [
       "if (typeof Jupyter !== \"undefined\") {require.undef(\"nbextensions/vpython_libraries/glow.min\");}else{element.textContent = ' ';}"
      ],
      "text/plain": [
       "<IPython.core.display.Javascript object>"
      ]
     },
     "metadata": {},
     "output_type": "display_data"
    },
    {
     "data": {
      "application/javascript": [
       "if (typeof Jupyter !== \"undefined\") {require.undef(\"nbextensions/vpython_libraries/glowcomm\");}else{element.textContent = ' ';}"
      ],
      "text/plain": [
       "<IPython.core.display.Javascript object>"
      ]
     },
     "metadata": {},
     "output_type": "display_data"
    },
    {
     "data": {
      "application/javascript": [
       "if (typeof Jupyter !== \"undefined\") {require.undef(\"nbextensions/vpython_libraries/jquery-ui.custom.min\");}else{element.textContent = ' ';}"
      ],
      "text/plain": [
       "<IPython.core.display.Javascript object>"
      ]
     },
     "metadata": {},
     "output_type": "display_data"
    },
    {
     "data": {
      "application/javascript": [
       "if (typeof Jupyter !== \"undefined\") {require([\"nbextensions/vpython_libraries/glow.min\"], function(){console.log(\"GLOW LOADED\");});}else{element.textContent = ' ';}"
      ],
      "text/plain": [
       "<IPython.core.display.Javascript object>"
      ]
     },
     "metadata": {},
     "output_type": "display_data"
    },
    {
     "data": {
      "application/javascript": [
       "if (typeof Jupyter !== \"undefined\") {require([\"nbextensions/vpython_libraries/glowcomm\"], function(){console.log(\"GLOWCOMM LOADED\");});}else{element.textContent = ' ';}"
      ],
      "text/plain": [
       "<IPython.core.display.Javascript object>"
      ]
     },
     "metadata": {},
     "output_type": "display_data"
    },
    {
     "data": {
      "application/javascript": [
       "if (typeof Jupyter !== \"undefined\") {require([\"nbextensions/vpython_libraries/jquery-ui.custom.min\"], function(){console.log(\"JQUERY LOADED\");});}else{element.textContent = ' ';}"
      ],
      "text/plain": [
       "<IPython.core.display.Javascript object>"
      ]
     },
     "metadata": {},
     "output_type": "display_data"
    },
    {
     "data": {
      "text/html": [
       "<div id=\"glowscript\" class=\"glowscript\"></div>"
      ],
      "text/plain": [
       "<IPython.core.display.HTML object>"
      ]
     },
     "metadata": {},
     "output_type": "display_data"
    },
    {
     "data": {
      "application/javascript": [
       "if (typeof Jupyter !== \"undefined\") { window.__context = { glowscript_container: $(\"#glowscript\").removeAttr(\"id\")};}else{ element.textContent = ' ';}"
      ],
      "text/plain": [
       "<IPython.core.display.Javascript object>"
      ]
     },
     "metadata": {},
     "output_type": "display_data"
    },
    {
     "data": {
      "text/html": [
       "<div id=\"glowscript\" class=\"glowscript\"></div>"
      ],
      "text/plain": [
       "<IPython.core.display.HTML object>"
      ]
     },
     "metadata": {},
     "output_type": "display_data"
    },
    {
     "data": {
      "application/javascript": [
       "if (typeof Jupyter !== \"undefined\") { window.__context = { glowscript_container: $(\"#glowscript\").removeAttr(\"id\")};}else{ element.textContent = ' ';}"
      ],
      "text/plain": [
       "<IPython.core.display.Javascript object>"
      ]
     },
     "metadata": {},
     "output_type": "display_data"
    }
   ],
   "source": [
    "from numpy import array\n",
    "from pylab import plot, show\n",
    "from vpython import sphere,rate,vector,color, canvas\n",
    "\n",
    "# Dados tirados do site: https://radiojove.gsfc.nasa.gov/education/educ/jupiter/basics/jfacts.htm\n",
    "\n",
    "def f(r,s,t):    #EDOs que regem o movimento do planeta r influenciado gravitacionalmente pelo sol e pelo planeta s.\n",
    "    sx,svx,sy,svy,rx,rvx,ry,rvy  = s[0],s[1],s[2],s[3],r[0],r[1],r[2],r[3]\n",
    "    R = (rx**2 + ry**2)**(1/2)     #Distância entre o planeta r e o sol.\n",
    "    RS = ((rx-sx)**2 + (ry-sy)**2)**(1/2)     #Distância entre o planeta r e o planeta s.\n",
    "    \n",
    "    #Equações diferenciais de primeira ordem\n",
    "    drx = rvx     #drx/dt\n",
    "    dry = rvy     #dry/dt\n",
    "    drvx = -Gm*(rx-sx)/(RS**3) -GM*rx/(R**3)      #drvx/dt\n",
    "    drvy = -Gm*(ry-sy)/(RS**3) -GM*ry/(R**3)      #drvx/dt\n",
    "    \n",
    "    return array([drx,drvx,dry,drvy])\n",
    "\n",
    "def RK4(r,s,t):     #Método Runge Kutta 4ª ordem\n",
    "    k1 = h*f(r,s,t)\n",
    "    k2 = h*f(r+k1/2,s,t+h/2)\n",
    "    k3 = h*f(r+k2/2,s,t+h/2)\n",
    "    k4 = h*f(r+k3,s,t+h)\n",
    "    return r + (1/6)*(k1+2*k2+2*k3+k4)\n",
    "\n",
    "# Parâmetros do cálculo:\n",
    "a = 0.0     #Tempo inicial.\n",
    "b = 12*3.1536*10**7     #Tempo final (12x Periodo da orbita da Terra). \n",
    "N = 5*10**4     #Numero de passo da simulação.\n",
    "h = (b-a)/N     #Intervalo de tempo de cada passo da simulação.\n",
    "t = a     #Parânemtro de calculo que representa o tempo(s)\n",
    "n = 0     #Parâmetro auxilixar\n",
    "G = 6.6738*10**(-11)     #Constante da gravitação universal\n",
    "M = 1.9891*10**30     #Massa do sol(kg)\n",
    "m1 = 5.9736*10**24     #Massa da Terra(kg)\n",
    "m2 = 1.8986*10**27     #Massa de Jupiter(kg)\n",
    "GM = G*M\n",
    "Gm1 = G*m1\n",
    "Gm2 = G*m2\n",
    "\n",
    "\n",
    "temp = []     #Tempo (t minúsculo).\n",
    "Tx = []     #Componetes da posição e velocidade da Terra nas coordenadas x e y em todos os instantes de tempo.\n",
    "Ty = []\n",
    "Tvx = []\n",
    "Tvy = []\n",
    "Jx = []     #Componetes da posição e velocidade de Jupiter nas coordenadas x e y em todos os instantes de tempo.\n",
    "Jy = []\n",
    "Jvx = []\n",
    "Jvy = []\n",
    "\n",
    "#OBS: Comprimentos em metro e velocidades em metro por segundo.\n",
    "\n",
    "Tx0,Tvx0,Ty0,Tvy0 = 1.4709*10**11,0.0,0.0,3.029*10**4     #Posição e velocidade inicial da Terra (no perielio).\n",
    "Jx0,Jvx0,Jy0,Jvy0 = 7.4052*10**11,0.0,0.0,1.372*10**4      #Posição e velocidade inicial de Jupiter (no perielio).\n",
    "T = array([Tx0,Tvx0,Ty0,Tvy0])     #Posição e velocidade inicial da Terra em um array (T maiúsculo).\n",
    "J = array([Jx0,Jvx0,Jy0,Jvy0])     #Posição e velocidade inicial de Jupiter em um array (J maiúsculo).\n",
    "\n",
    "#OBS: Para facilitar os cálculos vamos considerar que tanto Jupiter quanto a Terra partem dos seus respectivos \n",
    "#   perielios no instante inicial. Alem disso a posição desses pontos são relativimente próximas, o que pode não\n",
    "#   condizer com a realidade.\n",
    "\n",
    "# Resolvendo EDO:\n",
    "while(t<=b):\n",
    "    temp.append(t)     #Salvando o tempo atual.\n",
    "    Tx.append(T[0])     #Salvando a posição e velocidade da Terra no tempo t atual.\n",
    "    Tvx.append(T[1])\n",
    "    Ty.append(T[2])\n",
    "    Tvy.append(T[3])\n",
    "    Jx.append(J[0])     #Salvando a posição e velocidade de Jupiter no tempo t atual.\n",
    "    Jvx.append(J[1])\n",
    "    Jy.append(J[2])\n",
    "    Jvy.append(J[3])\n",
    "    \n",
    "    #Calculando a posição e velocidade da Terra no próximo passo.\n",
    "    Gm = Gm2\n",
    "    S = array([Jx[n],Jvx[n],Jy[n],Jvy[n]])\n",
    "    T = RK4(T,S,t)\n",
    "    \n",
    "    #Calculando a posição e velocidade de Jupiter no próximo passo.\n",
    "    Gm = Gm1\n",
    "    S = array([Tx[n],Tvx[n],Ty[n],Tvy[n]])\n",
    "    J = RK4(J,S,t)\n",
    "    \n",
    "    n+=1\n",
    "    t+=h     #Evoluindo o tempo t atual\n",
    "    \n",
    "#plot(xT,yT)     #Plotando a orbita da Terra\n",
    "#plot(xJ,yJ)     #Plotando a orbita de Jupiter\n",
    "#show()\n",
    "\n",
    "scene = canvas(width = 900, height = 500, center = vector(0,0,0) ,background=color.black)\n",
    "\n",
    "#T1 = sphere(pos=vector(0,0,0),radius=e*6.3781*10**6,color = color.blue)     #Terra\n",
    "#J1 = sphere(pos=vector(0,0,0),radius=e*7.1492*10**7,color = color.orange)     #Jupiter\n",
    "#S1 = sphere(pos=vector(0,0,0),radius=e*6.96340*10**8,color = color.white)     #Sol\n",
    "\n",
    "T1 = sphere(pos=vector(0,0,0),radius=10**10,color = color.blue)     #Terra\n",
    "J1 = sphere(pos=vector(0,0,0),radius=10**10,color = color.orange)     #Jupiter\n",
    "S1 = sphere(pos=vector(0,0,0),radius=10**10,color = color.white)     #Sol\n",
    "\n",
    "for i in range(n):\n",
    "    rate(700)\n",
    "    T1.pos = vector(Tx[i],Ty[i],0)\n",
    "    J1.pos = vector(Jx[i],Jy[i],0)"
   ]
  },
  {
   "cell_type": "code",
   "execution_count": null,
   "metadata": {},
   "outputs": [],
   "source": []
  }
 ],
 "metadata": {
  "kernelspec": {
   "display_name": "Python 3",
   "language": "python",
   "name": "python3"
  },
  "language_info": {
   "codemirror_mode": {
    "name": "ipython",
    "version": 3
   },
   "file_extension": ".py",
   "mimetype": "text/x-python",
   "name": "python",
   "nbconvert_exporter": "python",
   "pygments_lexer": "ipython3",
   "version": "3.6.8"
  }
 },
 "nbformat": 4,
 "nbformat_minor": 2
}
