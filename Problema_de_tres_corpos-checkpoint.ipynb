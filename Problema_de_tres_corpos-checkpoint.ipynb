{
 "cells": [
  {
   "cell_type": "markdown",
   "metadata": {},
   "source": [
    "# Problema de três corpos e o efeito de Júpiter na Terra"
   ]
  },
  {
   "cell_type": "markdown",
   "metadata": {},
   "source": [
    "- PET - Física UFRN\n",
    "- Petiano: Ricardo C. S. Rêgo\n",
    "- Data: 09/06/20"
   ]
  },
  {
   "cell_type": "markdown",
   "metadata": {},
   "source": [
    "O objetivo deste Projeto é simular a orbita da Terra e de Júpiter ao redor do Sol, e analisar os efeitos de Júpiter na Terra. Ele será escrito em Python e usará conceitos de Física computacional na \n",
    "resolução de EDOs, portanto requer um conhecimento prévio no assunto para a melhor compreensão [1]. O problema foi inicialmente proposto no livro Nicholas J. Giordano, Hisao Nakanishi - Computational Physics [2], na seção 4.4. "
   ]
  },
  {
   "cell_type": "markdown",
   "metadata": {},
   "source": [
    "**Considerações iniciais:**\n",
    "\n",
    "Esta simulação será um modelo 2D das orbitas planetárias, além disso as condições iniciais do sistema foram escolhidas com o fim de simplificar a simulação. O método computacional que será usado para resolver as EDOs é o método Runge Kutta de quarta ordem, e os dados numéricos usados foram retirados do site oficial da NASA [3].\n",
    "\n",
    "**Importando as bibliotecas:**"
   ]
  },
  {
   "cell_type": "code",
   "execution_count": 56,
   "metadata": {},
   "outputs": [],
   "source": [
    "from numpy import array\n",
    "from matplotlib.pyplot import plot, show, xlabel, ylabel,legend, title, figure, tick_params"
   ]
  },
  {
   "cell_type": "markdown",
   "metadata": {},
   "source": [
    "**Equações diferenciais do movimento planetário :**\n",
    "\n",
    "Assumindo um sistema de coordenadas cartesianas XY com sua origem no Sol, e sabendo que a translação planetária é regida pela Lei da gravitação universal:\n",
    "\n",
    "$$m\\frac{d^2 \\textbf{r}}{d t^2} = -\\frac{GMm}{{d}^{2}}\\boldsymbol{\\hat{\\textbf{r}}}$$\n",
    "\n",
    "Tendo em vista um sistema de três corpos, podemos encontrar a aceleração de um planeta na posição $\\textbf{r}$, gerada gravitacionalmente pelo sol (de massa $M$) e por um outro planeta na posição $\\textbf{s}$ (de massa $m$). Para facilitar a escrita do código, vamos dividir essa aceleração em suas componentes:\n",
    "\n",
    "$$\\frac{d^2 r_x}{d t^2}=-\\frac{Gm(r_x-s_x)}{{((r_x-s_x)^2 + (r_y-s_y)^2)}^{3/2}}-\\frac{GMr_x}{{(r_{x}^2 + r_{y}^2)}^{3/2}}$$"
   ]
  },
  {
   "cell_type": "markdown",
   "metadata": {},
   "source": [
    "$$\\frac{d^2 r_y}{dt^2}=-\\frac{Gm(r_y-s_y)}{{((r_x-s_x)^2 + (r_y-s_y)^2)}^{3/2}}-\\frac{GMr_y}{{(r_{x}^2 + r_{y}^2)}^{3/2}}$$\n",
    "\n",
    "Sendo $r_x$ e $r_y$ as componentes do vetor $\\textbf{r}$, $s_x$ e $s_y$ as componentes do vetor $\\textbf{s}$, e $G$ é a constante da gravitação universal. A solução destas equações diferenciais diz como um planeta na posição $\\textbf{r}$ se movimenta pelo espaço enquanto interage gravitacionalmente com outros dois corpos celestes (o Sol e o planeta na posição $\\textbf{s}$).\n",
    "\n",
    "O método computacional usado para resolver estas duas equações diferenciais do segundo gral, é transforma-las em quatro equações do primeiro grau e resolve-las. Assim, estas equações ficam na forma:\n",
    "\n",
    "$$\\frac{dr_x}{dt}=r_{vx}$$"
   ]
  },
  {
   "cell_type": "markdown",
   "metadata": {},
   "source": [
    "$$\\frac{dr_y}{dt}=r_{vy}$$"
   ]
  },
  {
   "cell_type": "markdown",
   "metadata": {},
   "source": [
    "$$\\frac{dr_{vx}}{dt}=-\\frac{Gm(r_x-s_x)}{{((r_x-s_x)^2 + (r_y-s_y)^2)}^{3/2}}-\\frac{GMr_x}{{(r_{x}^2 + r_{y}^2)}^{3/2}}$$"
   ]
  },
  {
   "cell_type": "markdown",
   "metadata": {},
   "source": [
    "$$\\frac{dr_{vy}}{dt}=-\\frac{Gm(r_y-s_y)}{{((r_x-s_x)^2 + (r_y-s_y)^2)}^{3/2}}-\\frac{GMr_y}{{(r_{x}^2 + r_{y}^2)}^{3/2}}$$"
   ]
  },
  {
   "cell_type": "markdown",
   "metadata": {},
   "source": [
    "Sendo $r_{vx}$ e $r_{vy}$ as componentes da velocidade do planeta na posição $\\textbf{r}$.\n",
    "\n",
    "**Criando uma função com as EDOs:**\n",
    "\n",
    "A função $f(r, s, t)$ recebe as posições e velocidades atuais do planeta na posição $\\textbf{r}$ e na $\\textbf{s}$, com isso ela usa essas informações para calcular a aceleração atual do planeta $\\textbf{r}$ e a envia como reposta junto da sua velocidade."
   ]
  },
  {
   "cell_type": "code",
   "execution_count": 57,
   "metadata": {},
   "outputs": [],
   "source": [
    "def f(r,s,t):    #EDOs que regem o movimento do planeta r.\n",
    "    sx,sy,rx,rvx,ry,rvy = s[0],s[1],r[0],r[1],r[2],r[3]\n",
    "    \n",
    "    #Distância entre o planeta r e o sol.\n",
    "    R = (rx**2 + ry**2)**(1/2) \n",
    "    #Distância entre o planeta r e o planeta s.\n",
    "    RS = ((rx-sx)**2 + (ry-sy)**2)**(1/2)  \n",
    "    \n",
    "    #Equações diferenciais de primeira ordem.\n",
    "    drx = rvx     #drx/dt\n",
    "    dry = rvy     #dry/dt\n",
    "    drvx = -Gm*(rx-sx)/(RS**3) -GM*rx/(R**3)      #drvx/dt.\n",
    "    drvy = -Gm*(ry-sy)/(RS**3) -GM*ry/(R**3)      #drvx/dt.\n",
    "    \n",
    "    return array([drx,drvx,dry,drvy])"
   ]
  },
  {
   "cell_type": "markdown",
   "metadata": {},
   "source": [
    "**Criando uma função para o método Runge Kutta:**\n",
    "\n",
    "O método Runge Kutta de quarta ordem, como dito anteriormente, é um método computacional bastante preciso, usado para resolver equações diferenciais. Na verdade, ele é um conjunto de métodos para resolver EDOs, que incluem por exemplo o método de Euler. Seu funcionamento basicamente consiste em receber dados iniciais de uma função e dizer onde ela estará no passo seguinte."
   ]
  },
  {
   "cell_type": "code",
   "execution_count": 58,
   "metadata": {},
   "outputs": [],
   "source": [
    "def RK4(r,s,t):     #Método Runge Kutta 4ª ordem.\n",
    "    k1 = h*f(r,s,t)\n",
    "    k2 = h*f(r+k1/2,s,t+h/2)\n",
    "    k3 = h*f(r+k2/2,s,t+h/2)\n",
    "    k4 = h*f(r+k3,s,t+h)\n",
    "    \n",
    "    return r + (1/6)*(k1+2*k2+2*k3+k4)"
   ]
  },
  {
   "cell_type": "markdown",
   "metadata": {},
   "source": [
    "**Definindo os parâmetros e as constantes:**\n",
    "\n",
    "Primeiro é preciso definir os limites de tempo da simulação (\"a\" e \"b\"), eles determinam quanto e qual tempo do sistema será simulado. O parâmetro \"N\" é a quantidade de passo da simulação, determinando a precisão e o custo computacional do código, também pode ser usado para encontra o intervalo de tempo \"h\" (duração de cada passo)."
   ]
  },
  {
   "cell_type": "code",
   "execution_count": 59,
   "metadata": {},
   "outputs": [],
   "source": [
    "a = 0.0     #Tempo inicial.\n",
    "b = 12*3.1536*10**7     #Tempo final (12x Periodo da órbita da Terra). \n",
    "N = 5*10**4     \n",
    "h = (b-a)/N     \n",
    "t = a     #Parânemtro de calculo que representa o tempo(s).\n",
    "n = 0     #Parâmetro auxilixar."
   ]
  },
  {
   "cell_type": "markdown",
   "metadata": {},
   "source": [
    "Também é necessário salvar as constantes físicas que serão usadas, para diminuir o custo computacional foi escolhido criar as constantes \"GM\", \"Gm1\" e \"Gm2\", que serão bastante usadas ao logo do código."
   ]
  },
  {
   "cell_type": "code",
   "execution_count": 60,
   "metadata": {},
   "outputs": [],
   "source": [
    "G = 6.6738*10**(-11)     #Constante da gravitação universal.\n",
    "M = 1.9891*10**30     #Massa do sol(kg).\n",
    "m1 = 5.9736*10**24     #Massa da Terra(kg).\n",
    "m2 = 1.8986*10**27     #Massa de Jupiter(kg).\n",
    "GM = G*M\n",
    "Gm1 = G*m1\n",
    "Gm2 = G*m2"
   ]
  },
  {
   "cell_type": "markdown",
   "metadata": {},
   "source": [
    "Ao longo do cálculo serão encontradas várias posições e velocidades dos planetas em cada instante de tempo, para poder encontrar a tragetória completa destes corpos e poder plota-la é preciso salvar estas informações, por exemplo, em listas. O método usado para fazer isso foi criar listas vazias e durante o cálculo usar a função \"append()\" para preenche-las."
   ]
  },
  {
   "cell_type": "code",
   "execution_count": 61,
   "metadata": {},
   "outputs": [],
   "source": [
    "temp = []     #Tempo.\n",
    "Tx = []     #Componetes da posição e velocidade da Terra (x e y).\n",
    "Ty = []\n",
    "Tvx = []\n",
    "Tvy = []\n",
    "Jx = []     #Componetes da posição e velocidade de Júpiter (x e y).\n",
    "Jy = []\n",
    "Jvx = []\n",
    "Jvy = []"
   ]
  },
  {
   "cell_type": "markdown",
   "metadata": {},
   "source": [
    "Para resolver as EDOs é preciso primeiro criar arrays que possam comportar os dados atuais das funções solução. Estes arrays serão atualizados pelo método Runge Kutta, por isso não salvam nenhuma informação, logo a necessidade de criar as listas descritas anteriormente (Os comprimentos estão em metro e as velocidades em metro por segundo)."
   ]
  },
  {
   "cell_type": "code",
   "execution_count": 62,
   "metadata": {},
   "outputs": [],
   "source": [
    "#Posição e velocidade inicial da Terra.\n",
    "Tx0,Tvx0,Ty0,Tvy0 = 1.4709*10**11,0.0,0.0,3.029*10**4  \n",
    "#Posição e velocidade inicial de Jupiter.\n",
    "Jx0,Jvx0,Jy0,Jvy0 = 7.4052*10**11,0.0,0.0,1.372*10**4  \n",
    "\n",
    "T = array([Tx0,Tvx0,Ty0,Tvy0])     \n",
    "J = array([Jx0,Jvx0,Jy0,Jvy0])     "
   ]
  },
  {
   "cell_type": "markdown",
   "metadata": {},
   "source": [
    "Para facilitar os cálculos, consideramos que tanto Jupiter quanto a Terra partem dos seus respectivos perielios no instante inicial [3]. Alem disso as posições destes perielios foram escolhidas de forma que eles estarão alinhados ao longo do eixo x positivo, o que não condizer com a realidade, mas é uma aproximação aceitavel para os fins do Projeto."
   ]
  },
  {
   "cell_type": "markdown",
   "metadata": {},
   "source": [
    "**Resolvendo as EDOs e encontrando as orbitas planetárias:**\n",
    "\n",
    "A lista S será usada para que os dados da posição e velocidade atual tanto de Jupiter como da Terra não sejam perdidos."
   ]
  },
  {
   "cell_type": "code",
   "execution_count": 63,
   "metadata": {},
   "outputs": [],
   "source": [
    "while(t<=b):\n",
    "    temp.append(t)     #Salvando o tempo atual.\n",
    "    \n",
    "    #Salvando a posição e velocidade da Terra no tempo t atual.\n",
    "    Tx.append(T[0])     \n",
    "    Tvx.append(T[1])\n",
    "    Ty.append(T[2])\n",
    "    Tvy.append(T[3])    \n",
    "    #Salvando a posição e velocidade de Jupiter no tempo t atual.\n",
    "    Jx.append(J[0])     \n",
    "    Jvx.append(J[1])\n",
    "    Jy.append(J[2])\n",
    "    Jvy.append(J[3])\n",
    "    \n",
    "    #Calculando a posição e velocidade da Terra no próximo passo.\n",
    "    Gm = Gm2\n",
    "    S = array([Jx[n],Jy[n]])\n",
    "    T = RK4(T,S,t)\n",
    "    \n",
    "    #Calculando a posição e velocidade de Jupiter no próximo passo.\n",
    "    Gm = Gm1\n",
    "    S = array([Tx[n],Ty[n]])\n",
    "    J = RK4(J,S,t)\n",
    "    \n",
    "    n+=1\n",
    "    t+=h     #Evoluindo o tempo t atual.   "
   ]
  },
  {
   "cell_type": "markdown",
   "metadata": {},
   "source": [
    "**Plotando o sistema solar de três corpos:**\n",
    "\n",
    "Para melhor entendimento, será usada a unidade astronômicas para os comprimentos, por isso a necessidade da criação de um fator de conversão $c$ e da transformação das Listas em arrays, para que possão ser alteradas por $c$."
   ]
  },
  {
   "cell_type": "code",
   "execution_count": 64,
   "metadata": {},
   "outputs": [
    {
     "data": {
      "image/png": "[encoded data removed]",
      "text/plain": [
       "<Figure size 360x360 with 1 Axes>"
      ]
     },
     "metadata": {
      "needs_background": "light"
     },
     "output_type": "display_data"
    }
   ],
   "source": [
    "c = 6.68456*10**(-12)     #Fator de conversão\n",
    "Tx = array(Tx)     \n",
    "Ty = array(Ty)\n",
    "Jx = array(Jx)\n",
    "Jy = array(Jy)\n",
    "fig = figure(figsize=(5,5))\n",
    "tick_params(direction='in', top=True, right=True)\n",
    "xlabel(\"x [AU]\")\n",
    "ylabel(\"y [AU]\")\n",
    "title(\"Órbitas planetárias\")\n",
    "plot(Tx*c,Ty*c,label=\"Terra\")     #Plotando a orbita da Terra.\n",
    "plot(Jx*c,Jy*c,label=\"Júpiter\")     #Plotando a orbita de Jupiter.\n",
    "legend()\n",
    "show()"
   ]
  },
  {
   "cell_type": "markdown",
   "metadata": {},
   "source": [
    "**Conclusão:**\n",
    "\n",
    "Como esperado, a orbita da Terra e de Júpiter descrevem tragetórias elipticas ao redor do Sol. Além disso, a influência gravitacional de Júpter não gera uma interferencia notável na própria orbita da Terra. "
   ]
  },
  {
   "cell_type": "markdown",
   "metadata": {},
   "source": [
    "**Referências:**\n",
    "\n",
    "    [1] Mark Newman-Computational Physics (2013,University of Michigan)    \n",
    "    [2] Nicholas J. Giordano; Hisao Nakanishi-Computational Physics (2005,Addison-Wesley,Second Edition)    \n",
    "    [3] https://radiojove.gsfc.nasa.gov/education/educ/jupiter/basics/jfacts.htm"
   ]
  }
 ],
 "metadata": {
  "kernelspec": {
   "display_name": "Python 3",
   "language": "python",
   "name": "python3"
  },
  "language_info": {
   "codemirror_mode": {
    "name": "ipython",
    "version": 3
   },
   "file_extension": ".py",
   "mimetype": "text/x-python",
   "name": "python",
   "nbconvert_exporter": "python",
   "pygments_lexer": "ipython3",
   "version": "3.6.8"
  }
 },
 "nbformat": 4,
 "nbformat_minor": 2
}
